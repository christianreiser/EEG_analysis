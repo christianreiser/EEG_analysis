{
 "cells": [
  {
   "cell_type": "code",
   "execution_count": 1,
   "metadata": {},
   "outputs": [
    {
     "name": "stderr",
     "output_type": "stream",
     "text": [
      "<ipython-input-1-0fa6db5be31f>:19: RuntimeWarning: Could not locate a data file of a supported format. This is likely a problem with your BIDS dataset. Please run the BIDS validator on your data. (root=../local/bids_old, basename=sub-030_task-P3_eeg). []\n",
      "  raw = read_raw_bids(bids_path)\n"
     ]
    },
    {
     "ename": "TypeError",
     "evalue": "expected str, bytes or os.PathLike object, not NoneType",
     "output_type": "error",
     "traceback": [
      "\u001b[0;31m---------------------------------------------------------------------------\u001b[0m",
      "\u001b[0;31mTypeError\u001b[0m                                 Traceback (most recent call last)",
      "\u001b[0;32m<ipython-input-1-0fa6db5be31f>\u001b[0m in \u001b[0;36m<module>\u001b[0;34m\u001b[0m\n\u001b[1;32m     17\u001b[0m                      root=bids_root)\n\u001b[1;32m     18\u001b[0m \u001b[0;34m\u001b[0m\u001b[0m\n\u001b[0;32m---> 19\u001b[0;31m \u001b[0mraw\u001b[0m \u001b[0;34m=\u001b[0m \u001b[0mread_raw_bids\u001b[0m\u001b[0;34m(\u001b[0m\u001b[0mbids_path\u001b[0m\u001b[0;34m)\u001b[0m\u001b[0;34m\u001b[0m\u001b[0;34m\u001b[0m\u001b[0m\n\u001b[0m\u001b[1;32m     20\u001b[0m \u001b[0mccs_eeg_utils\u001b[0m\u001b[0;34m.\u001b[0m\u001b[0mread_annotations_core\u001b[0m\u001b[0;34m(\u001b[0m\u001b[0mbids_path\u001b[0m\u001b[0;34m,\u001b[0m\u001b[0mraw\u001b[0m\u001b[0;34m)\u001b[0m\u001b[0;34m\u001b[0m\u001b[0;34m\u001b[0m\u001b[0m\n\u001b[1;32m     21\u001b[0m \u001b[0mraw\u001b[0m\u001b[0;34m.\u001b[0m\u001b[0mload_data\u001b[0m\u001b[0;34m(\u001b[0m\u001b[0;34m)\u001b[0m\u001b[0;34m\u001b[0m\u001b[0;34m\u001b[0m\u001b[0m\n",
      "\u001b[0;32m~/venv/lib/python3.8/site-packages/mne_bids/read.py\u001b[0m in \u001b[0;36mread_raw_bids\u001b[0;34m(bids_path, extra_params, verbose)\u001b[0m\n\u001b[1;32m    350\u001b[0m     \u001b[0;32mif\u001b[0m \u001b[0mextra_params\u001b[0m \u001b[0;32mis\u001b[0m \u001b[0;32mNone\u001b[0m\u001b[0;34m:\u001b[0m\u001b[0;34m\u001b[0m\u001b[0;34m\u001b[0m\u001b[0m\n\u001b[1;32m    351\u001b[0m         \u001b[0mextra_params\u001b[0m \u001b[0;34m=\u001b[0m \u001b[0mdict\u001b[0m\u001b[0;34m(\u001b[0m\u001b[0;34m)\u001b[0m\u001b[0;34m\u001b[0m\u001b[0;34m\u001b[0m\u001b[0m\n\u001b[0;32m--> 352\u001b[0;31m     raw = _read_raw(bids_fpath, electrode=None, hsp=None, hpi=None,\n\u001b[0m\u001b[1;32m    353\u001b[0m                     config=config, verbose=None, **extra_params)\n\u001b[1;32m    354\u001b[0m \u001b[0;34m\u001b[0m\u001b[0m\n",
      "\u001b[0;32m~/venv/lib/python3.8/site-packages/mne_bids/read.py\u001b[0m in \u001b[0;36m_read_raw\u001b[0;34m(raw_fpath, electrode, hsp, hpi, allow_maxshield, config, verbose, **kwargs)\u001b[0m\n\u001b[1;32m     38\u001b[0m     \u001b[0;31m# BTi systems\u001b[0m\u001b[0;34m\u001b[0m\u001b[0;34m\u001b[0m\u001b[0;34m\u001b[0m\u001b[0m\n\u001b[1;32m     39\u001b[0m     \u001b[0;32melif\u001b[0m \u001b[0mext\u001b[0m \u001b[0;34m==\u001b[0m \u001b[0;34m'.pdf'\u001b[0m\u001b[0;34m:\u001b[0m\u001b[0;34m\u001b[0m\u001b[0;34m\u001b[0m\u001b[0m\n\u001b[0;32m---> 40\u001b[0;31m         raw = io.read_raw_bti(raw_fpath, config_fname=config,\n\u001b[0m\u001b[1;32m     41\u001b[0m                               \u001b[0mhead_shape_fname\u001b[0m\u001b[0;34m=\u001b[0m\u001b[0mhsp\u001b[0m\u001b[0;34m,\u001b[0m\u001b[0;34m\u001b[0m\u001b[0;34m\u001b[0m\u001b[0m\n\u001b[1;32m     42\u001b[0m                               \u001b[0mpreload\u001b[0m\u001b[0;34m=\u001b[0m\u001b[0;32mFalse\u001b[0m\u001b[0;34m,\u001b[0m \u001b[0mverbose\u001b[0m\u001b[0;34m=\u001b[0m\u001b[0mverbose\u001b[0m\u001b[0;34m,\u001b[0m\u001b[0;34m\u001b[0m\u001b[0;34m\u001b[0m\u001b[0m\n",
      "\u001b[0;32m<decorator-gen-176>\u001b[0m in \u001b[0;36mread_raw_bti\u001b[0;34m(pdf_fname, config_fname, head_shape_fname, rotation_x, translation, convert, rename_channels, sort_by_ch_name, ecg_ch, eog_ch, preload, verbose)\u001b[0m\n",
      "\u001b[0;32m~/venv/lib/python3.8/site-packages/mne/io/bti/bti.py\u001b[0m in \u001b[0;36mread_raw_bti\u001b[0;34m(pdf_fname, config_fname, head_shape_fname, rotation_x, translation, convert, rename_channels, sort_by_ch_name, ecg_ch, eog_ch, preload, verbose)\u001b[0m\n\u001b[1;32m   1279\u001b[0m     \u001b[0mmne\u001b[0m\u001b[0;34m.\u001b[0m\u001b[0mio\u001b[0m\u001b[0;34m.\u001b[0m\u001b[0mRaw\u001b[0m \u001b[0;34m:\u001b[0m \u001b[0mDocumentation\u001b[0m \u001b[0mof\u001b[0m \u001b[0mattribute\u001b[0m \u001b[0;32mand\u001b[0m \u001b[0mmethods\u001b[0m\u001b[0;34m.\u001b[0m\u001b[0;34m\u001b[0m\u001b[0;34m\u001b[0m\u001b[0m\n\u001b[1;32m   1280\u001b[0m     \"\"\"\n\u001b[0;32m-> 1281\u001b[0;31m     return RawBTi(pdf_fname, config_fname=config_fname,\n\u001b[0m\u001b[1;32m   1282\u001b[0m                   \u001b[0mhead_shape_fname\u001b[0m\u001b[0;34m=\u001b[0m\u001b[0mhead_shape_fname\u001b[0m\u001b[0;34m,\u001b[0m\u001b[0;34m\u001b[0m\u001b[0;34m\u001b[0m\u001b[0m\n\u001b[1;32m   1283\u001b[0m                   \u001b[0mrotation_x\u001b[0m\u001b[0;34m=\u001b[0m\u001b[0mrotation_x\u001b[0m\u001b[0;34m,\u001b[0m \u001b[0mtranslation\u001b[0m\u001b[0;34m=\u001b[0m\u001b[0mtranslation\u001b[0m\u001b[0;34m,\u001b[0m\u001b[0;34m\u001b[0m\u001b[0;34m\u001b[0m\u001b[0m\n",
      "\u001b[0;32m<decorator-gen-175>\u001b[0m in \u001b[0;36m__init__\u001b[0;34m(self, pdf_fname, config_fname, head_shape_fname, rotation_x, translation, convert, rename_channels, sort_by_ch_name, ecg_ch, eog_ch, preload, verbose)\u001b[0m\n",
      "\u001b[0;32m~/venv/lib/python3.8/site-packages/mne/io/bti/bti.py\u001b[0m in \u001b[0;36m__init__\u001b[0;34m(self, pdf_fname, config_fname, head_shape_fname, rotation_x, translation, convert, rename_channels, sort_by_ch_name, ecg_ch, eog_ch, preload, verbose)\u001b[0m\n\u001b[1;32m    945\u001b[0m                  \u001b[0mecg_ch\u001b[0m\u001b[0;34m=\u001b[0m\u001b[0;34m'E31'\u001b[0m\u001b[0;34m,\u001b[0m \u001b[0meog_ch\u001b[0m\u001b[0;34m=\u001b[0m\u001b[0;34m(\u001b[0m\u001b[0;34m'E63'\u001b[0m\u001b[0;34m,\u001b[0m \u001b[0;34m'E64'\u001b[0m\u001b[0;34m)\u001b[0m\u001b[0;34m,\u001b[0m\u001b[0;34m\u001b[0m\u001b[0;34m\u001b[0m\u001b[0m\n\u001b[1;32m    946\u001b[0m                  preload=False, verbose=None):  # noqa: D102\n\u001b[0;32m--> 947\u001b[0;31m         info, bti_info = _get_bti_info(\n\u001b[0m\u001b[1;32m    948\u001b[0m             \u001b[0mpdf_fname\u001b[0m\u001b[0;34m=\u001b[0m\u001b[0mpdf_fname\u001b[0m\u001b[0;34m,\u001b[0m \u001b[0mconfig_fname\u001b[0m\u001b[0;34m=\u001b[0m\u001b[0mconfig_fname\u001b[0m\u001b[0;34m,\u001b[0m\u001b[0;34m\u001b[0m\u001b[0;34m\u001b[0m\u001b[0m\n\u001b[1;32m    949\u001b[0m             \u001b[0mhead_shape_fname\u001b[0m\u001b[0;34m=\u001b[0m\u001b[0mhead_shape_fname\u001b[0m\u001b[0;34m,\u001b[0m \u001b[0mrotation_x\u001b[0m\u001b[0;34m=\u001b[0m\u001b[0mrotation_x\u001b[0m\u001b[0;34m,\u001b[0m\u001b[0;34m\u001b[0m\u001b[0;34m\u001b[0m\u001b[0m\n",
      "\u001b[0;32m~/venv/lib/python3.8/site-packages/mne/io/bti/bti.py\u001b[0m in \u001b[0;36m_get_bti_info\u001b[0;34m(pdf_fname, config_fname, head_shape_fname, rotation_x, translation, convert, ecg_ch, eog_ch, rename_channels, sort_by_ch_name)\u001b[0m\n\u001b[1;32m   1043\u001b[0m \u001b[0;34m\u001b[0m\u001b[0m\n\u001b[1;32m   1044\u001b[0m     \u001b[0;32mif\u001b[0m \u001b[0;32mnot\u001b[0m \u001b[0misinstance\u001b[0m\u001b[0;34m(\u001b[0m\u001b[0mconfig_fname\u001b[0m\u001b[0;34m,\u001b[0m \u001b[0mBytesIO\u001b[0m\u001b[0;34m)\u001b[0m\u001b[0;34m:\u001b[0m\u001b[0;34m\u001b[0m\u001b[0;34m\u001b[0m\u001b[0m\n\u001b[0;32m-> 1045\u001b[0;31m         \u001b[0;32mif\u001b[0m \u001b[0;32mnot\u001b[0m \u001b[0mop\u001b[0m\u001b[0;34m.\u001b[0m\u001b[0misabs\u001b[0m\u001b[0;34m(\u001b[0m\u001b[0mconfig_fname\u001b[0m\u001b[0;34m)\u001b[0m\u001b[0;34m:\u001b[0m\u001b[0;34m\u001b[0m\u001b[0;34m\u001b[0m\u001b[0m\n\u001b[0m\u001b[1;32m   1046\u001b[0m             config_tries = [op.abspath(config_fname),\n\u001b[1;32m   1047\u001b[0m                             op.abspath(op.join(op.dirname(pdf_fname),\n",
      "\u001b[0;32m/usr/lib/python3.8/posixpath.py\u001b[0m in \u001b[0;36misabs\u001b[0;34m(s)\u001b[0m\n\u001b[1;32m     60\u001b[0m \u001b[0;32mdef\u001b[0m \u001b[0misabs\u001b[0m\u001b[0;34m(\u001b[0m\u001b[0ms\u001b[0m\u001b[0;34m)\u001b[0m\u001b[0;34m:\u001b[0m\u001b[0;34m\u001b[0m\u001b[0;34m\u001b[0m\u001b[0m\n\u001b[1;32m     61\u001b[0m     \u001b[0;34m\"\"\"Test whether a path is absolute\"\"\"\u001b[0m\u001b[0;34m\u001b[0m\u001b[0;34m\u001b[0m\u001b[0m\n\u001b[0;32m---> 62\u001b[0;31m     \u001b[0ms\u001b[0m \u001b[0;34m=\u001b[0m \u001b[0mos\u001b[0m\u001b[0;34m.\u001b[0m\u001b[0mfspath\u001b[0m\u001b[0;34m(\u001b[0m\u001b[0ms\u001b[0m\u001b[0;34m)\u001b[0m\u001b[0;34m\u001b[0m\u001b[0;34m\u001b[0m\u001b[0m\n\u001b[0m\u001b[1;32m     63\u001b[0m     \u001b[0msep\u001b[0m \u001b[0;34m=\u001b[0m \u001b[0m_get_sep\u001b[0m\u001b[0;34m(\u001b[0m\u001b[0ms\u001b[0m\u001b[0;34m)\u001b[0m\u001b[0;34m\u001b[0m\u001b[0;34m\u001b[0m\u001b[0m\n\u001b[1;32m     64\u001b[0m     \u001b[0;32mreturn\u001b[0m \u001b[0ms\u001b[0m\u001b[0;34m.\u001b[0m\u001b[0mstartswith\u001b[0m\u001b[0;34m(\u001b[0m\u001b[0msep\u001b[0m\u001b[0;34m)\u001b[0m\u001b[0;34m\u001b[0m\u001b[0;34m\u001b[0m\u001b[0m\n",
      "\u001b[0;31mTypeError\u001b[0m: expected str, bytes or os.PathLike object, not NoneType"
     ]
    }
   ],
   "source": [
    "import sys\n",
    "sys.path.insert(1, '../exercises')\n",
    "from mne_bids import (BIDSPath,read_raw_bids)\n",
    "import mne_bids\n",
    "import importlib\n",
    "import mne\n",
    "import ccs_eeg_utils\n",
    "\n",
    "#ccs_eeg_utils.download_erpcore(task=\"P3\",subject=30,localpath=\"../local/bids/\")\n",
    "\n",
    "bids_root = \"../local/bids_old\"\n",
    "subject_id = '030'\n",
    "\n",
    "\n",
    "bids_path = BIDSPath(subject=subject_id,task=\"P3\",\n",
    "                     datatype='eeg', suffix='eeg',\n",
    "                     root=bids_root)\n",
    "\n",
    "raw = read_raw_bids(bids_path)\n",
    "ccs_eeg_utils.read_annotations_core(bids_path,raw)\n",
    "raw.load_data()\n",
    "raw.filter(0.5,50, fir_design='firwin')"
   ]
  },
  {
   "cell_type": "markdown",
   "metadata": {},
   "source": [
    "**T:** Go through the dataset using the MNE explorer and clean it. You can use `raw.plot()` for this. If you are working from a jupyter notebook, try to use `%matplotlib qt` for better support of the cleaning window. To get an understanding how the tool works, press `help` or type `?` in the window. (Hint: You first have to add a new annotation by pressing `a`)"
   ]
  },
  {
   "cell_type": "code",
   "execution_count": null,
   "metadata": {},
   "outputs": [],
   "source": [
    "%matplotlib qt\n",
    "raw.plot(n_channels=len(raw.ch_names))#,scalings =40e-6)\n",
    "# See below"
   ]
  },
  {
   "cell_type": "code",
   "execution_count": null,
   "metadata": {},
   "outputs": [],
   "source": [
    "bad_ix = [i for i,a in enumerate(raw.annotations) if a['description']==\"BAD_\"]\n",
    "\n",
    "#raw.annotations[bad_ix].save(\"sub-{}_task-P3_badannotations.csv\".format(subject_id))\n",
    "\n",
    "\n",
    "annotations = mne.read_annotations(\"sub-{}_task-P3_badannotations.csv\".format(subject_id))\n",
    "raw.annotations.append(annotations.onset,annotations.duration,annotations.description)\n"
   ]
  },
  {
   "cell_type": "code",
   "execution_count": null,
   "metadata": {},
   "outputs": [],
   "source": [
    "%matplotlib qt\n",
    "raw.plot(n_channels=len(raw.ch_names))"
   ]
  },
  {
   "cell_type": "markdown",
   "metadata": {},
   "source": [
    "\n",
    "**T:** While going through the dataset, mark what you observe as bad electrodes. Those are saved in `raw.info['bads']`. The channels can be interpolated with `raw.interpolate_bads()` or `epoch.interpolate_bads()`. Compare the channel + neighbours before and after. Did the interpolation succeed? (If you are interested in the mathematical details of spline interpolation, checkout this https://mne.tools/dev/overview/implementation.html#id26)\n",
    "Hint: You need channel locations to run the interpolation which you can get by using the default-standardized channel locations `raw.set_montage('standard_1020',match_case=False)`"
   ]
  },
  {
   "cell_type": "code",
   "execution_count": null,
   "metadata": {},
   "outputs": [],
   "source": [
    "# I thought there was not really a bad channel in this dataset, so I remove one at random.\n",
    "raw.info['bads'] = ['FP2']\n",
    "# for interpolation\n",
    "raw.set_montage('standard_1020',match_case=False)\n",
    "raw.interpolate_bads()"
   ]
  },
  {
   "cell_type": "code",
   "execution_count": null,
   "metadata": {},
   "outputs": [],
   "source": [
    "!\"{sys.executable}\" -m pip install mne --upgrade"
   ]
  },
  {
   "cell_type": "markdown",
   "metadata": {},
   "source": [
    "**T:** In the epoching step, we can also specify rejection criterion for a peak-to-peak rejection method"
   ]
  },
  {
   "cell_type": "code",
   "execution_count": null,
   "metadata": {
    "tags": []
   },
   "outputs": [],
   "source": [
    "%matplotlib inline\n",
    "import mne\n",
    "evts,evts_dict = mne.events_from_annotations(raw)\n",
    "wanted_keys = [e for e in evts_dict.keys() if \"stimulus\" in e]\n",
    "evts_dict_stim=dict((k, evts_dict[k]) for k in wanted_keys if k in evts_dict)\n",
    "\n",
    "# get epochs with and without rejection\n",
    "epochs        = mne.Epochs(raw,evts,evts_dict_stim,tmin=-0.1,tmax=1,reject_by_annotation=False)\n",
    "epochs_manual = mne.Epochs(raw,evts,evts_dict_stim,tmin=-0.1,tmax=1,reject_by_annotation=True)\n",
    "reject_criteria = dict(eeg=200e-6,       # 100 µV # HAD TO INCREASE IT HERE, 100 was too harsh\n",
    "                       eog=200e-6)       # 200 µV\n",
    "epochs_thresh = mne.Epochs(raw,evts,evts_dict_stim,tmin=-0.1,tmax=1,reject=reject_criteria,reject_by_annotation=False)\n",
    "\n",
    "#from matplotlib import pyplot as plt\n",
    "# compare\n",
    "#plt.plot([0,:])\n",
    "mne.viz.plot_compare_evokeds({'raw':epochs.average(),'clean':epochs_manual.average(),'thresh':epochs_thresh.average()},picks=\"Cz\")\n"
   ]
  },
  {
   "cell_type": "markdown",
   "metadata": {},
   "source": [
    "## Bonus Tasks!"
   ]
  },
  {
   "cell_type": "code",
   "execution_count": null,
   "metadata": {},
   "outputs": [],
   "source": [
    "from autoreject import AutoReject\n",
    "ar = AutoReject(verbose='tqdm')\n",
    "epochs.load_data()\n",
    "epochs_ar = ar.fit_transform(epochs)  "
   ]
  },
  {
   "cell_type": "code",
   "execution_count": null,
   "metadata": {},
   "outputs": [],
   "source": [
    "r = ar.get_reject_log(epochs)"
   ]
  },
  {
   "cell_type": "code",
   "execution_count": null,
   "metadata": {},
   "outputs": [],
   "source": [
    "r.plot(orientation=\"horizontal\")"
   ]
  },
  {
   "cell_type": "code",
   "execution_count": null,
   "metadata": {},
   "outputs": [],
   "source": [
    "\n",
    "mne.viz.plot_compare_evokeds({\n",
    "    'raw':epochs.average(),\n",
    "    'clean':epochs_manual.average(),\n",
    "    'ar':epochs_ar.average()\n",
    "    },picks=\"Cz\")\n"
   ]
  },
  {
   "cell_type": "code",
   "execution_count": null,
   "metadata": {},
   "outputs": [],
   "source": [
    "from scipy.stats.mstats import winsorize\n",
    "import numpy as np\n",
    "def winsor(d):\n",
    "    return np.mean(winsorize(d,axis=0,limits=(0.2,0.2)),axis=0)\n",
    "def median(d):\n",
    "    return np.median(d,axis=0)\n",
    "\n",
    "mne.viz.plot_compare_evokeds({\n",
    "    'clean':epochs_manual.average(),\n",
    "    'robust':epochs.average(method=winsor),\n",
    "    'median':epochs.average(method=median),\n",
    "    },picks=\"Cz\")"
   ]
  },
  {
   "cell_type": "code",
   "execution_count": null,
   "metadata": {},
   "outputs": [],
   "source": [
    "mne.viz.plot_compare_evokeds({\n",
    "    'clean':epochs_manual.average(),\n",
    "    'robust':epochs.average(method=winsor),\n",
    "    'ar':epochs_ar.average()\n",
    "    },picks=\"Cz\")"
   ]
  },
  {
   "cell_type": "code",
   "execution_count": null,
   "metadata": {},
   "outputs": [],
   "source": [
    "%matplotlib inline\n",
    "ylim = dict(eeg=(-20, 20))\n",
    "epochs.average().plot(ylim=ylim, spatial_colors=True)\n",
    "epochs_ar.average().plot(ylim=ylim, spatial_colors=True)\n",
    "epochs_manual.average().plot(ylim=ylim, spatial_colors=True)"
   ]
  },
  {
   "cell_type": "code",
   "execution_count": null,
   "metadata": {},
   "outputs": [],
   "source": []
  }
 ],
 "metadata": {
  "kernelspec": {
   "display_name": "Python 3",
   "language": "python",
   "name": "python3"
  },
  "language_info": {
   "codemirror_mode": {
    "name": "ipython",
    "version": 3
   },
   "file_extension": ".py",
   "mimetype": "text/x-python",
   "name": "python",
   "nbconvert_exporter": "python",
   "pygments_lexer": "ipython3",
   "version": "3.8.5"
  }
 },
 "nbformat": 4,
 "nbformat_minor": 2
}
